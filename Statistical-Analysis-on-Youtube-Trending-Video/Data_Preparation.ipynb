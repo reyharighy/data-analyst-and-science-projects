{
 "cells": [
  {
   "cell_type": "markdown",
   "metadata": {},
   "source": [
    "### **Importing Related Notebooks** "
   ]
  },
  {
   "cell_type": "code",
   "execution_count": 2,
   "metadata": {},
   "outputs": [],
   "source": [
    "import import_ipynb\n",
    "import Data_Understanding\n",
    "\n",
    "data = Data_Understanding.data"
   ]
  },
  {
   "cell_type": "markdown",
   "metadata": {},
   "source": [
    "### **Data Preparation**"
   ]
  },
  {
   "cell_type": "markdown",
   "metadata": {},
   "source": [
    "This section will focus on the process of transforming raw data into ready-to-use data. All of these processes will be examined in each column and, if necessary, delete unnecessary columns or, conversely, add new columns to enrich the insights needed in the Explanaroty Data Analysis section."
   ]
  },
  {
   "cell_type": "markdown",
   "metadata": {},
   "source": [
    "##### **Empty Data**"
   ]
  },
  {
   "cell_type": "markdown",
   "metadata": {},
   "source": [
    "Empty data is usually represented by `Nan`, `None`, and `Null`. When there is empty data, there are many ways to deal with it, including deleting rows or columns containing empty data, filling them with alternative data, or in some cases numeric data, can be filled with mean or median."
   ]
  },
  {
   "cell_type": "code",
   "execution_count": 3,
   "metadata": {},
   "outputs": [
    {
     "data": {
      "text/html": [
       "<div>\n",
       "<style scoped>\n",
       "    .dataframe tbody tr th:only-of-type {\n",
       "        vertical-align: middle;\n",
       "    }\n",
       "\n",
       "    .dataframe tbody tr th {\n",
       "        vertical-align: top;\n",
       "    }\n",
       "\n",
       "    .dataframe thead th {\n",
       "        text-align: right;\n",
       "    }\n",
       "</style>\n",
       "<table border=\"1\" class=\"dataframe\">\n",
       "  <thead>\n",
       "    <tr style=\"text-align: right;\">\n",
       "      <th></th>\n",
       "      <th>Column</th>\n",
       "      <th>Missing Counts</th>\n",
       "    </tr>\n",
       "  </thead>\n",
       "  <tbody>\n",
       "    <tr>\n",
       "      <th>1</th>\n",
       "      <td>video_id</td>\n",
       "      <td>0</td>\n",
       "    </tr>\n",
       "    <tr>\n",
       "      <th>2</th>\n",
       "      <td>trending_date</td>\n",
       "      <td>0</td>\n",
       "    </tr>\n",
       "    <tr>\n",
       "      <th>3</th>\n",
       "      <td>title</td>\n",
       "      <td>0</td>\n",
       "    </tr>\n",
       "    <tr>\n",
       "      <th>4</th>\n",
       "      <td>channel_title</td>\n",
       "      <td>0</td>\n",
       "    </tr>\n",
       "    <tr>\n",
       "      <th>5</th>\n",
       "      <td>category_id</td>\n",
       "      <td>0</td>\n",
       "    </tr>\n",
       "    <tr>\n",
       "      <th>6</th>\n",
       "      <td>publish_time</td>\n",
       "      <td>0</td>\n",
       "    </tr>\n",
       "    <tr>\n",
       "      <th>7</th>\n",
       "      <td>tags</td>\n",
       "      <td>0</td>\n",
       "    </tr>\n",
       "    <tr>\n",
       "      <th>8</th>\n",
       "      <td>views</td>\n",
       "      <td>0</td>\n",
       "    </tr>\n",
       "    <tr>\n",
       "      <th>9</th>\n",
       "      <td>likes</td>\n",
       "      <td>0</td>\n",
       "    </tr>\n",
       "    <tr>\n",
       "      <th>10</th>\n",
       "      <td>dislikes</td>\n",
       "      <td>0</td>\n",
       "    </tr>\n",
       "    <tr>\n",
       "      <th>11</th>\n",
       "      <td>comment_count</td>\n",
       "      <td>0</td>\n",
       "    </tr>\n",
       "    <tr>\n",
       "      <th>12</th>\n",
       "      <td>thumbnail_link</td>\n",
       "      <td>0</td>\n",
       "    </tr>\n",
       "    <tr>\n",
       "      <th>13</th>\n",
       "      <td>comments_disabled</td>\n",
       "      <td>0</td>\n",
       "    </tr>\n",
       "    <tr>\n",
       "      <th>14</th>\n",
       "      <td>ratings_disabled</td>\n",
       "      <td>0</td>\n",
       "    </tr>\n",
       "    <tr>\n",
       "      <th>15</th>\n",
       "      <td>video_error_or_removed</td>\n",
       "      <td>0</td>\n",
       "    </tr>\n",
       "    <tr>\n",
       "      <th>16</th>\n",
       "      <td>description</td>\n",
       "      <td>570</td>\n",
       "    </tr>\n",
       "  </tbody>\n",
       "</table>\n",
       "</div>"
      ],
      "text/plain": [
       "                    Column  Missing Counts\n",
       "1                 video_id               0\n",
       "2            trending_date               0\n",
       "3                    title               0\n",
       "4            channel_title               0\n",
       "5              category_id               0\n",
       "6             publish_time               0\n",
       "7                     tags               0\n",
       "8                    views               0\n",
       "9                    likes               0\n",
       "10                dislikes               0\n",
       "11           comment_count               0\n",
       "12          thumbnail_link               0\n",
       "13       comments_disabled               0\n",
       "14        ratings_disabled               0\n",
       "15  video_error_or_removed               0\n",
       "16             description             570"
      ]
     },
     "execution_count": 3,
     "metadata": {},
     "output_type": "execute_result"
    }
   ],
   "source": [
    "import pandas as pd\n",
    "import numpy as np\n",
    "\n",
    "null_items = []\n",
    "\n",
    "for col in data.columns:\n",
    "    null_items.append([col,data[col].isnull().sum()])\n",
    "\n",
    "pd.DataFrame(null_items,columns=[\n",
    "    'Column','Missing Counts'\n",
    "]).set_index(np.r_[1:17])"
   ]
  },
  {
   "cell_type": "markdown",
   "metadata": {},
   "source": [
    "From here, it is indicated that there is empty data in the `description` column of 570 data while there are no other columns. This needs to be further identified to find out how important the column with empty data is and what to do next."
   ]
  },
  {
   "cell_type": "markdown",
   "metadata": {},
   "source": [
    "##### **Data Type Problem**"
   ]
  },
  {
   "cell_type": "markdown",
   "metadata": {},
   "source": [
    "As the data contained in the `trending_date` column, the date format is not supported for analysis. Therefore, the data type will be converted using the `pd.to_datetime` method in **Pandas**. Likewise, the column `publish_time` will be converted to a similar format."
   ]
  },
  {
   "cell_type": "code",
   "execution_count": 4,
   "metadata": {},
   "outputs": [
    {
     "data": {
      "text/html": [
       "<div>\n",
       "<style scoped>\n",
       "    .dataframe tbody tr th:only-of-type {\n",
       "        vertical-align: middle;\n",
       "    }\n",
       "\n",
       "    .dataframe tbody tr th {\n",
       "        vertical-align: top;\n",
       "    }\n",
       "\n",
       "    .dataframe thead th {\n",
       "        text-align: right;\n",
       "    }\n",
       "</style>\n",
       "<table border=\"1\" class=\"dataframe\">\n",
       "  <thead>\n",
       "    <tr style=\"text-align: right;\">\n",
       "      <th></th>\n",
       "      <th>trending_date</th>\n",
       "      <th>publish_time</th>\n",
       "    </tr>\n",
       "  </thead>\n",
       "  <tbody>\n",
       "    <tr>\n",
       "      <th>1</th>\n",
       "      <td>17.14.11</td>\n",
       "      <td>2017-11-13T07:30:00.000Z</td>\n",
       "    </tr>\n",
       "    <tr>\n",
       "      <th>1000</th>\n",
       "      <td>17.19.11</td>\n",
       "      <td>2017-11-18T15:43:11.000Z</td>\n",
       "    </tr>\n",
       "    <tr>\n",
       "      <th>2000</th>\n",
       "      <td>17.24.11</td>\n",
       "      <td>2017-11-22T15:00:17.000Z</td>\n",
       "    </tr>\n",
       "  </tbody>\n",
       "</table>\n",
       "</div>"
      ],
      "text/plain": [
       "     trending_date              publish_time\n",
       "1         17.14.11  2017-11-13T07:30:00.000Z\n",
       "1000      17.19.11  2017-11-18T15:43:11.000Z\n",
       "2000      17.24.11  2017-11-22T15:00:17.000Z"
      ]
     },
     "execution_count": 4,
     "metadata": {},
     "output_type": "execute_result"
    }
   ],
   "source": [
    "data[['trending_date','publish_time']].iloc[[1,1000,2000]]"
   ]
  },
  {
   "cell_type": "code",
   "execution_count": 5,
   "metadata": {},
   "outputs": [
    {
     "data": {
      "text/plain": [
       "trending_date    datetime64[ns]\n",
       "publish_time     datetime64[ns]\n",
       "dtype: object"
      ]
     },
     "metadata": {},
     "output_type": "display_data"
    },
    {
     "data": {
      "text/html": [
       "<div>\n",
       "<style scoped>\n",
       "    .dataframe tbody tr th:only-of-type {\n",
       "        vertical-align: middle;\n",
       "    }\n",
       "\n",
       "    .dataframe tbody tr th {\n",
       "        vertical-align: top;\n",
       "    }\n",
       "\n",
       "    .dataframe thead th {\n",
       "        text-align: right;\n",
       "    }\n",
       "</style>\n",
       "<table border=\"1\" class=\"dataframe\">\n",
       "  <thead>\n",
       "    <tr style=\"text-align: right;\">\n",
       "      <th></th>\n",
       "      <th>trending_date</th>\n",
       "      <th>publish_time</th>\n",
       "    </tr>\n",
       "  </thead>\n",
       "  <tbody>\n",
       "    <tr>\n",
       "      <th>1</th>\n",
       "      <td>2017-11-14</td>\n",
       "      <td>2017-11-13</td>\n",
       "    </tr>\n",
       "    <tr>\n",
       "      <th>1000</th>\n",
       "      <td>2017-11-19</td>\n",
       "      <td>2017-11-18</td>\n",
       "    </tr>\n",
       "    <tr>\n",
       "      <th>2000</th>\n",
       "      <td>2017-11-24</td>\n",
       "      <td>2017-11-22</td>\n",
       "    </tr>\n",
       "  </tbody>\n",
       "</table>\n",
       "</div>"
      ],
      "text/plain": [
       "     trending_date publish_time\n",
       "1       2017-11-14   2017-11-13\n",
       "1000    2017-11-19   2017-11-18\n",
       "2000    2017-11-24   2017-11-22"
      ]
     },
     "metadata": {},
     "output_type": "display_data"
    }
   ],
   "source": [
    "data['trending_date'] = pd.to_datetime(data['trending_date'],format='%y.%d.%m',utc=False)\n",
    "data['publish_time'] = pd.to_datetime(pd.to_datetime(data['publish_time']).dt.strftime(\"%Y-%m-%d\"))\n",
    "\n",
    "display(data[['trending_date','publish_time']].dtypes,data[['trending_date','publish_time']].iloc[[1,1000,2000]])"
   ]
  },
  {
   "cell_type": "markdown",
   "metadata": {},
   "source": [
    "Now the data type in both columns has become `datetime64` with the format YYYY-MM-DD."
   ]
  },
  {
   "cell_type": "code",
   "execution_count": 6,
   "metadata": {},
   "outputs": [],
   "source": [
    "data.rename(columns={\n",
    "    'trending_date':'Trending Date',\n",
    "    'publish_time':'Publish Date'\n",
    "},inplace=True)"
   ]
  },
  {
   "cell_type": "markdown",
   "metadata": {},
   "source": [
    "Now the column that contains date information matches the data type. Then we will change the name of each column sequentially to `Trending Date` and `Publish Date` so that in the following discussion we will use these two names."
   ]
  },
  {
   "cell_type": "markdown",
   "metadata": {},
   "source": [
    "##### **Invalid Data**"
   ]
  },
  {
   "cell_type": "markdown",
   "metadata": {},
   "source": [
    "As previously mentioned, there is a boolean data type containing the values ​​`True` and `False` in the `comments_disabled`, `ratings_disabled` and `video_error_or_removed` fields. This information is not representative, so it needs to be followed up by changing the data according to the intended purpose. Then the column names will also be changed sequentially to `Comments Feature`, `Ratings Feature`, and `Video Availability` so that the column names will be used in further discussion."
   ]
  },
  {
   "cell_type": "code",
   "execution_count": 7,
   "metadata": {},
   "outputs": [
    {
     "data": {
      "text/html": [
       "<div>\n",
       "<style scoped>\n",
       "    .dataframe tbody tr th:only-of-type {\n",
       "        vertical-align: middle;\n",
       "    }\n",
       "\n",
       "    .dataframe tbody tr th {\n",
       "        vertical-align: top;\n",
       "    }\n",
       "\n",
       "    .dataframe thead th {\n",
       "        text-align: right;\n",
       "    }\n",
       "</style>\n",
       "<table border=\"1\" class=\"dataframe\">\n",
       "  <thead>\n",
       "    <tr style=\"text-align: right;\">\n",
       "      <th></th>\n",
       "      <th></th>\n",
       "      <th></th>\n",
       "      <th>Counts</th>\n",
       "    </tr>\n",
       "    <tr>\n",
       "      <th>Comments Feature</th>\n",
       "      <th>Ratings Feature</th>\n",
       "      <th>Video Availability</th>\n",
       "      <th></th>\n",
       "    </tr>\n",
       "  </thead>\n",
       "  <tbody>\n",
       "    <tr>\n",
       "      <th rowspan=\"3\" valign=\"top\">Available</th>\n",
       "      <th rowspan=\"2\" valign=\"top\">Available</th>\n",
       "      <th>Available</th>\n",
       "      <td>40230.0</td>\n",
       "    </tr>\n",
       "    <tr>\n",
       "      <th>Unavailable</th>\n",
       "      <td>527.0</td>\n",
       "    </tr>\n",
       "    <tr>\n",
       "      <th>Unavailable</th>\n",
       "      <th>Available</th>\n",
       "      <td>106.0</td>\n",
       "    </tr>\n",
       "    <tr>\n",
       "      <th rowspan=\"2\" valign=\"top\">Unavailable</th>\n",
       "      <th>Available</th>\n",
       "      <th>Available</th>\n",
       "      <td>63.0</td>\n",
       "    </tr>\n",
       "    <tr>\n",
       "      <th>Unavailable</th>\n",
       "      <th>Available</th>\n",
       "      <td>23.0</td>\n",
       "    </tr>\n",
       "  </tbody>\n",
       "</table>\n",
       "</div>"
      ],
      "text/plain": [
       "                                                      Counts\n",
       "Comments Feature Ratings Feature Video Availability         \n",
       "Available        Available       Available           40230.0\n",
       "                                 Unavailable           527.0\n",
       "                 Unavailable     Available             106.0\n",
       "Unavailable      Available       Available              63.0\n",
       "                 Unavailable     Available              23.0"
      ]
     },
     "execution_count": 7,
     "metadata": {},
     "output_type": "execute_result"
    }
   ],
   "source": [
    "for col in ['comments_disabled','ratings_disabled','video_error_or_removed']:\n",
    "    data.replace({col:{\n",
    "        True:'Unavailable',\n",
    "        False:'Available'\n",
    "    }},inplace=True)\n",
    "\n",
    "data.rename(columns={\n",
    "    'comments_disabled':'Comments Feature',\n",
    "    'ratings_disabled':'Ratings Feature',\n",
    "    'video_error_or_removed':'Video Availability'\n",
    "}, inplace=True)\n",
    "\n",
    "pivot = data.groupby(['Comments Feature','Ratings Feature','Video Availability']).count().reset_index()\n",
    "pivot['Counts'] = [value for value in data[['Comments Feature','Ratings Feature','Video Availability']].value_counts()]\n",
    "pivot.pivot_table(index=['Comments Feature','Ratings Feature','Video Availability'],values=['Counts'])"
   ]
  },
  {
   "cell_type": "markdown",
   "metadata": {},
   "source": [
    "From the table above, we find that there is a small portion of the video population that is unavailable."
   ]
  },
  {
   "cell_type": "markdown",
   "metadata": {},
   "source": [
    "##### **Uninformative Data**"
   ]
  },
  {
   "cell_type": "markdown",
   "metadata": {},
   "source": [
    "Uninformative data can be interpreted as data that cannot explain the information contained."
   ]
  },
  {
   "cell_type": "code",
   "execution_count": 8,
   "metadata": {},
   "outputs": [
    {
     "data": {
      "text/plain": [
       "array([22, 24, 23, 28,  1, 25, 17, 10, 15, 27, 26,  2, 19, 20, 29, 43],\n",
       "      dtype=int64)"
      ]
     },
     "execution_count": 8,
     "metadata": {},
     "output_type": "execute_result"
    }
   ],
   "source": [
    "data['category_id'].unique()"
   ]
  },
  {
   "cell_type": "markdown",
   "metadata": {},
   "source": [
    "In the `category_id` column, the data contained is still nominally categorical, which, although in the form of a number, has no level or comparison, so it is still considered non-numeric data. However, the data contained is not informative because it is unable to clearly represent the related video. Data values ​​can be changed by matching id data in dictionaty dataset `US_category_id.json`."
   ]
  },
  {
   "cell_type": "code",
   "execution_count": 9,
   "metadata": {},
   "outputs": [
    {
     "data": {
      "text/html": [
       "<div>\n",
       "<style scoped>\n",
       "    .dataframe tbody tr th:only-of-type {\n",
       "        vertical-align: middle;\n",
       "    }\n",
       "\n",
       "    .dataframe tbody tr th {\n",
       "        vertical-align: top;\n",
       "    }\n",
       "\n",
       "    .dataframe thead th {\n",
       "        text-align: right;\n",
       "    }\n",
       "</style>\n",
       "<table border=\"1\" class=\"dataframe\">\n",
       "  <thead>\n",
       "    <tr style=\"text-align: right;\">\n",
       "      <th></th>\n",
       "      <th>snippet</th>\n",
       "    </tr>\n",
       "    <tr>\n",
       "      <th>category_id</th>\n",
       "      <th></th>\n",
       "    </tr>\n",
       "  </thead>\n",
       "  <tbody>\n",
       "    <tr>\n",
       "      <th>1</th>\n",
       "      <td>{'channelId': 'UCBR8-60-B28hp2BmDPdntcQ', 'title': 'Film &amp; Animation', 'assignable': True}</td>\n",
       "    </tr>\n",
       "    <tr>\n",
       "      <th>2</th>\n",
       "      <td>{'channelId': 'UCBR8-60-B28hp2BmDPdntcQ', 'title': 'Autos &amp; Vehicles', 'assignable': True}</td>\n",
       "    </tr>\n",
       "    <tr>\n",
       "      <th>10</th>\n",
       "      <td>{'channelId': 'UCBR8-60-B28hp2BmDPdntcQ', 'title': 'Music', 'assignable': True}</td>\n",
       "    </tr>\n",
       "    <tr>\n",
       "      <th>15</th>\n",
       "      <td>{'channelId': 'UCBR8-60-B28hp2BmDPdntcQ', 'title': 'Pets &amp; Animals', 'assignable': True}</td>\n",
       "    </tr>\n",
       "    <tr>\n",
       "      <th>17</th>\n",
       "      <td>{'channelId': 'UCBR8-60-B28hp2BmDPdntcQ', 'title': 'Sports', 'assignable': True}</td>\n",
       "    </tr>\n",
       "  </tbody>\n",
       "</table>\n",
       "</div>"
      ],
      "text/plain": [
       "                                                                                                snippet\n",
       "category_id                                                                                            \n",
       "1            {'channelId': 'UCBR8-60-B28hp2BmDPdntcQ', 'title': 'Film & Animation', 'assignable': True}\n",
       "2            {'channelId': 'UCBR8-60-B28hp2BmDPdntcQ', 'title': 'Autos & Vehicles', 'assignable': True}\n",
       "10                      {'channelId': 'UCBR8-60-B28hp2BmDPdntcQ', 'title': 'Music', 'assignable': True}\n",
       "15             {'channelId': 'UCBR8-60-B28hp2BmDPdntcQ', 'title': 'Pets & Animals', 'assignable': True}\n",
       "17                     {'channelId': 'UCBR8-60-B28hp2BmDPdntcQ', 'title': 'Sports', 'assignable': True}"
      ]
     },
     "execution_count": 9,
     "metadata": {},
     "output_type": "execute_result"
    }
   ],
   "source": [
    "data_json = pd.read_json('US_category_id.json')\n",
    "json_list = []\n",
    "\n",
    "for i in [json_items for json_items in data_json['items']]:\n",
    "    json_list.append(i)\n",
    "\n",
    "pd.set_option('display.max_colwidth',100)\n",
    "category_df = pd.DataFrame(json_list)[['id','snippet']].rename(columns={'id':'category_id'}).set_index('category_id')\n",
    "category_df.head()"
   ]
  },
  {
   "cell_type": "markdown",
   "metadata": {},
   "source": [
    "This method can be achieved with the help of library **re** (regular expression). The goal is to find a condition where all data in the `category_id` column is no longer a number. When this condition is reached, the iteration process and data substitution can be stopped so that the process does not run forever even though in fact the process that is executed requires quite a long time."
   ]
  },
  {
   "cell_type": "code",
   "execution_count": 10,
   "metadata": {},
   "outputs": [
    {
     "data": {
      "text/plain": [
       "array(['People & Blogs', 'Entertainment', 'Comedy',\n",
       "       'Science & Technology', 'Film & Animation', 'News & Politics',\n",
       "       'Sports', 'Music', 'Pets & Animals', 'Education', 'Howto & Style',\n",
       "       'Autos & Vehicles', 'Travel & Events', 'Gaming',\n",
       "       'Nonprofits & Activism', 'Shows'], dtype=object)"
      ]
     },
     "execution_count": 10,
     "metadata": {},
     "output_type": "execute_result"
    }
   ],
   "source": [
    "import re\n",
    "\n",
    "for category_id in data['category_id']:\n",
    "    data.loc[data['category_id']==category_id,'category_id'] = category_df['snippet'].loc[str(category_id)].setdefault('title')\n",
    "    if not re.match(r'(?=[0-9])',str(data['category_id'].unique()[-1])):\n",
    "        break\n",
    "\n",
    "data['category_id'].unique()"
   ]
  },
  {
   "cell_type": "markdown",
   "metadata": {},
   "source": [
    "After the substitution process is complete, the `category_id` column is filled with clear information regarding the categorization of the related video. In addition, the column name will also be changed to `Category` so that the new column name will continue to be used in subsequent discussions."
   ]
  },
  {
   "cell_type": "code",
   "execution_count": 11,
   "metadata": {},
   "outputs": [],
   "source": [
    "data.rename(columns={'category_id':'Category'},inplace=True)"
   ]
  },
  {
   "cell_type": "markdown",
   "metadata": {},
   "source": [
    "##### **Duplicate Data**"
   ]
  },
  {
   "cell_type": "markdown",
   "metadata": {},
   "source": [
    "As previously mentioned, the `video_id` data is a unique code embedded in a video. **YouTube** uses the Base 64 system which involves uppercase and lowercase letters, numbers, and hyphens (\"-\") and underscores (\"_\") which consists of 11 characters."
   ]
  },
  {
   "cell_type": "code",
   "execution_count": 12,
   "metadata": {},
   "outputs": [
    {
     "name": "stdout",
     "output_type": "stream",
     "text": [
      "There no data with characters excluding uppercase and lowercase letters, numbers,\n",
      "and hyphens (\"-\") and underscores (\"_\") which consists of 11 characters.\n"
     ]
    }
   ],
   "source": [
    "for vid_id in data['video_id']:\n",
    "    if not re.match(r'^[A-Za-z0-9-_]+$',vid_id) or len(vid_id) != 11:\n",
    "        print('There are data with inappropriate characters')\n",
    "else:\n",
    "    print('There no data with characters excluding uppercase and lowercase letters, numbers,'\n",
    "          '\\nand hyphens (\"-\") and underscores (\"_\") which consists of 11 characters.')"
   ]
  },
  {
   "cell_type": "markdown",
   "metadata": {},
   "source": [
    "Although the `video_id` for each video is unique, in reality, it represents a different entity in the dataset. This is because, at certain times, the video owner makes changes to several video attributes such as `title`, `channel_title`, `category_id`, `tags`, `Comments Feature`, and `Ratings Feature`.\n",
    "\n",
    "To ensure that each unique data in the `video_id` column does not represent more than one video, you can check the number of unique data in the `Publish Date` column. Because it is very clear that a video uploaded at one time will have different unique data from other videos even though it was uploaded on the same day. If more than one data is found in the `Publish Date` column, then it is certain that it is indicated as a duplicate. This can be done by grouping using `groupby()` method in the `video_id` column and aggregating with `agg()` method in the `Publish Date` column."
   ]
  },
  {
   "cell_type": "code",
   "execution_count": 13,
   "metadata": {},
   "outputs": [
    {
     "data": {
      "text/html": [
       "<div>\n",
       "<style scoped>\n",
       "    .dataframe tbody tr th:only-of-type {\n",
       "        vertical-align: middle;\n",
       "    }\n",
       "\n",
       "    .dataframe tbody tr th {\n",
       "        vertical-align: top;\n",
       "    }\n",
       "\n",
       "    .dataframe thead th {\n",
       "        text-align: right;\n",
       "    }\n",
       "</style>\n",
       "<table border=\"1\" class=\"dataframe\">\n",
       "  <thead>\n",
       "    <tr style=\"text-align: right;\">\n",
       "      <th></th>\n",
       "      <th>count</th>\n",
       "    </tr>\n",
       "    <tr>\n",
       "      <th>Total_Publish_Date</th>\n",
       "      <th></th>\n",
       "    </tr>\n",
       "  </thead>\n",
       "  <tbody>\n",
       "    <tr>\n",
       "      <th>1</th>\n",
       "      <td>6349</td>\n",
       "    </tr>\n",
       "    <tr>\n",
       "      <th>2</th>\n",
       "      <td>1</td>\n",
       "    </tr>\n",
       "    <tr>\n",
       "      <th>3</th>\n",
       "      <td>1</td>\n",
       "    </tr>\n",
       "  </tbody>\n",
       "</table>\n",
       "</div>"
      ],
      "text/plain": [
       "                    count\n",
       "Total_Publish_Date       \n",
       "1                    6349\n",
       "2                       1\n",
       "3                       1"
      ]
     },
     "execution_count": 13,
     "metadata": {},
     "output_type": "execute_result"
    }
   ],
   "source": [
    "vid_id_df = data.groupby('video_id').agg(Total_Publish_Date=('Publish Date','nunique'))\n",
    "pd.DataFrame(vid_id_df.value_counts())"
   ]
  },
  {
   "cell_type": "markdown",
   "metadata": {},
   "source": [
    "From the process above, an event was found where there was 2 unique data from the `video_id` column which indicated duplicates. In this case, duplicate data can be removed as part of the guarantee that all data `video_id` is unique. However further checks are required to know the intent of the event on this dataset."
   ]
  },
  {
   "cell_type": "code",
   "execution_count": 14,
   "metadata": {},
   "outputs": [
    {
     "data": {
      "text/html": [
       "<div>\n",
       "<style scoped>\n",
       "    .dataframe tbody tr th:only-of-type {\n",
       "        vertical-align: middle;\n",
       "    }\n",
       "\n",
       "    .dataframe tbody tr th {\n",
       "        vertical-align: top;\n",
       "    }\n",
       "\n",
       "    .dataframe thead th {\n",
       "        text-align: right;\n",
       "    }\n",
       "</style>\n",
       "<table border=\"1\" class=\"dataframe\">\n",
       "  <thead>\n",
       "    <tr style=\"text-align: right;\">\n",
       "      <th></th>\n",
       "      <th>Total_Publish_Date</th>\n",
       "    </tr>\n",
       "    <tr>\n",
       "      <th>video_id</th>\n",
       "      <th></th>\n",
       "    </tr>\n",
       "  </thead>\n",
       "  <tbody>\n",
       "    <tr>\n",
       "      <th>kZete48ZtsY</th>\n",
       "      <td>3</td>\n",
       "    </tr>\n",
       "    <tr>\n",
       "      <th>ogfYd705cRs</th>\n",
       "      <td>2</td>\n",
       "    </tr>\n",
       "  </tbody>\n",
       "</table>\n",
       "</div>"
      ],
      "text/plain": [
       "             Total_Publish_Date\n",
       "video_id                       \n",
       "kZete48ZtsY                   3\n",
       "ogfYd705cRs                   2"
      ]
     },
     "metadata": {},
     "output_type": "display_data"
    },
    {
     "data": {
      "text/html": [
       "<div>\n",
       "<style scoped>\n",
       "    .dataframe tbody tr th:only-of-type {\n",
       "        vertical-align: middle;\n",
       "    }\n",
       "\n",
       "    .dataframe tbody tr th {\n",
       "        vertical-align: top;\n",
       "    }\n",
       "\n",
       "    .dataframe thead th {\n",
       "        text-align: right;\n",
       "    }\n",
       "</style>\n",
       "<table border=\"1\" class=\"dataframe\">\n",
       "  <thead>\n",
       "    <tr style=\"text-align: right;\">\n",
       "      <th></th>\n",
       "      <th></th>\n",
       "      <th></th>\n",
       "      <th></th>\n",
       "      <th></th>\n",
       "      <th>count</th>\n",
       "    </tr>\n",
       "    <tr>\n",
       "      <th>video_id</th>\n",
       "      <th>title</th>\n",
       "      <th>channel_title</th>\n",
       "      <th>Publish Date</th>\n",
       "      <th>Video Availability</th>\n",
       "      <th></th>\n",
       "    </tr>\n",
       "  </thead>\n",
       "  <tbody>\n",
       "    <tr>\n",
       "      <th rowspan=\"4\" valign=\"top\">kZete48ZtsY</th>\n",
       "      <th rowspan=\"2\" valign=\"top\">Deleted video</th>\n",
       "      <th>DaHoopSpot Productions</th>\n",
       "      <th>2017-12-16</th>\n",
       "      <th>Unavailable</th>\n",
       "      <td>2</td>\n",
       "    </tr>\n",
       "    <tr>\n",
       "      <th>Midnight Video</th>\n",
       "      <th>2018-01-29</th>\n",
       "      <th>Unavailable</th>\n",
       "      <td>1</td>\n",
       "    </tr>\n",
       "    <tr>\n",
       "      <th>Roger Federer 20th Grand Slam Victory Tribute</th>\n",
       "      <th>ATPWorldTour</th>\n",
       "      <th>2018-01-28</th>\n",
       "      <th>Available</th>\n",
       "      <td>2</td>\n",
       "    </tr>\n",
       "    <tr>\n",
       "      <th>Roger Federer's  20th Grand Slam Victory Tribute</th>\n",
       "      <th>ATPWorldTour</th>\n",
       "      <th>2018-01-28</th>\n",
       "      <th>Available</th>\n",
       "      <td>1</td>\n",
       "    </tr>\n",
       "    <tr>\n",
       "      <th rowspan=\"2\" valign=\"top\">ogfYd705cRs</th>\n",
       "      <th>Google I/O'18: Google Keynote</th>\n",
       "      <th>Google Developers</th>\n",
       "      <th>2018-04-24</th>\n",
       "      <th>Available</th>\n",
       "      <td>1</td>\n",
       "    </tr>\n",
       "    <tr>\n",
       "      <th>Keynote (Google I/O '18)</th>\n",
       "      <th>Google Developers</th>\n",
       "      <th>2018-05-10</th>\n",
       "      <th>Available</th>\n",
       "      <td>13</td>\n",
       "    </tr>\n",
       "  </tbody>\n",
       "</table>\n",
       "</div>"
      ],
      "text/plain": [
       "                                                                                                                     count\n",
       "video_id    title                                            channel_title          Publish Date Video Availability       \n",
       "kZete48ZtsY Deleted video                                    DaHoopSpot Productions 2017-12-16   Unavailable             2\n",
       "                                                             Midnight Video         2018-01-29   Unavailable             1\n",
       "            Roger Federer 20th Grand Slam Victory Tribute    ATPWorldTour           2018-01-28   Available               2\n",
       "            Roger Federer's  20th Grand Slam Victory Tribute ATPWorldTour           2018-01-28   Available               1\n",
       "ogfYd705cRs Google I/O'18: Google Keynote                    Google Developers      2018-04-24   Available               1\n",
       "            Keynote (Google I/O '18)                         Google Developers      2018-05-10   Available              13"
      ]
     },
     "metadata": {},
     "output_type": "display_data"
    }
   ],
   "source": [
    "display(\n",
    "    vid_id_df[vid_id_df['Total_Publish_Date']!=1],\n",
    "    pd.DataFrame(\n",
    "        data[(data['video_id']=='kZete48ZtsY') | (data['video_id']=='ogfYd705cRs')]\\\n",
    "                [['video_id','title','channel_title','Publish Date','Video Availability']].value_counts(sort=False)\n",
    "    )\n",
    ")"
   ]
  },
  {
   "cell_type": "markdown",
   "metadata": {},
   "source": [
    "The findings above explain that:\n",
    "1. As can be seen in the `n_unique_date` column, the unique data 'kZete48ZtsY' is used by three different videos. However, this is not a problem because the data is not used simultaneously at one time. In other words, **YouTube** creates a reusable system to manage unique data from the `video_id` column.\n",
    "\n",
    "2. A unique data `video_id` can be reused on condition that the previously linked video is unavailable on the **YouTube** service.\n",
    "3. In certain cases such as the unique data 'ogfYd705cRs', there are two videos released at different times but use the same unique data even though one of the videos has not been deleted. This indicates duplication even though launched by the same channel. To overcome this, we will perform a transformation on the `Publish Date` column using the earliest data."
   ]
  },
  {
   "cell_type": "code",
   "execution_count": 15,
   "metadata": {},
   "outputs": [
    {
     "data": {
      "text/html": [
       "<div>\n",
       "<style scoped>\n",
       "    .dataframe tbody tr th:only-of-type {\n",
       "        vertical-align: middle;\n",
       "    }\n",
       "\n",
       "    .dataframe tbody tr th {\n",
       "        vertical-align: top;\n",
       "    }\n",
       "\n",
       "    .dataframe thead th {\n",
       "        text-align: right;\n",
       "    }\n",
       "</style>\n",
       "<table border=\"1\" class=\"dataframe\">\n",
       "  <thead>\n",
       "    <tr style=\"text-align: right;\">\n",
       "      <th></th>\n",
       "      <th></th>\n",
       "      <th></th>\n",
       "      <th></th>\n",
       "      <th></th>\n",
       "      <th>count</th>\n",
       "    </tr>\n",
       "    <tr>\n",
       "      <th>video_id</th>\n",
       "      <th>title</th>\n",
       "      <th>channel_title</th>\n",
       "      <th>Publish Date</th>\n",
       "      <th>Video Availability</th>\n",
       "      <th></th>\n",
       "    </tr>\n",
       "  </thead>\n",
       "  <tbody>\n",
       "    <tr>\n",
       "      <th rowspan=\"2\" valign=\"top\">ogfYd705cRs</th>\n",
       "      <th>Google I/O'18: Google Keynote</th>\n",
       "      <th>Google Developers</th>\n",
       "      <th>2018-04-24</th>\n",
       "      <th>Available</th>\n",
       "      <td>1</td>\n",
       "    </tr>\n",
       "    <tr>\n",
       "      <th>Keynote (Google I/O '18)</th>\n",
       "      <th>Google Developers</th>\n",
       "      <th>2018-04-24</th>\n",
       "      <th>Available</th>\n",
       "      <td>13</td>\n",
       "    </tr>\n",
       "  </tbody>\n",
       "</table>\n",
       "</div>"
      ],
      "text/plain": [
       "                                                                                             count\n",
       "video_id    title                         channel_title     Publish Date Video Availability       \n",
       "ogfYd705cRs Google I/O'18: Google Keynote Google Developers 2018-04-24   Available               1\n",
       "            Keynote (Google I/O '18)      Google Developers 2018-04-24   Available              13"
      ]
     },
     "execution_count": 15,
     "metadata": {},
     "output_type": "execute_result"
    }
   ],
   "source": [
    "data.loc[(data['channel_title']=='Google Developers') & \n",
    "         (data['video_id']=='ogfYd705cRs') & \n",
    "         (data['Publish Date']!='2018-04-24'),\n",
    "         'Publish Date'] = data[(data['channel_title']=='Google Developers') & (data['video_id']=='ogfYd705cRs')]['Publish Date'].min()\n",
    "\n",
    "pd.DataFrame(\n",
    "    data[data['video_id']=='ogfYd705cRs'][[\n",
    "        'video_id','title','channel_title','Publish Date','Video Availability'\n",
    "    ]].value_counts(sort=False)\n",
    ")"
   ]
  },
  {
   "cell_type": "markdown",
   "metadata": {},
   "source": [
    "The `Publish Date` data from the unique data 'ogfYd705cRs' is uniform so there is no indication of any further duplication. Then we will change the column name `video_id` to `Video ID` so that the new name will be used in the following discussion."
   ]
  },
  {
   "cell_type": "code",
   "execution_count": 16,
   "metadata": {},
   "outputs": [],
   "source": [
    "data.rename(columns={'video_id':'Video ID'},inplace=True)"
   ]
  },
  {
   "cell_type": "markdown",
   "metadata": {},
   "source": [
    "##### **Incosys Date**"
   ]
  },
  {
   "cell_type": "markdown",
   "metadata": {},
   "source": [
    "There are no clear rules regarding the video title naming system in the `title` column. It's just that there is a limit regarding the number of characters displayed, which is as many as 100 characters, including spaces. If it exceeds the limit, it will be truncated at the end of a title."
   ]
  },
  {
   "cell_type": "code",
   "execution_count": 17,
   "metadata": {},
   "outputs": [
    {
     "name": "stdout",
     "output_type": "stream",
     "text": [
      "The longest video title is 'LeBron James admits he was ripping Phil Jackson and thinks DeShaun Watson should be the Browns qu...'. \n",
      "The shortest video title is '435'.\n"
     ]
    }
   ],
   "source": [
    "title_list = []\n",
    "\n",
    "for i in data['title']:\n",
    "    title_list.append(len(i))\n",
    "\n",
    "print('The longest video title is',\"'\"+data.iloc[np.array(title_list).argmax()]['title']+\"'.\",\n",
    "      '\\nThe shortest video title is',\"'\"+data.iloc[np.array(title_list).argmin()]['title']+\"'.\")"
   ]
  },
  {
   "cell_type": "markdown",
   "metadata": {},
   "source": [
    "Likewise for the channel name in the `channel_title` column, no definite rule was found in the data."
   ]
  },
  {
   "cell_type": "code",
   "execution_count": 18,
   "metadata": {},
   "outputs": [
    {
     "name": "stdout",
     "output_type": "stream",
     "text": [
      "The longest channel name is '42Fab - Metalworking and Multi-Medium Fabrication'. \n",
      "The shortest channel name is 'GQ'.\n"
     ]
    }
   ],
   "source": [
    "channel_list = []\n",
    "\n",
    "for i in data['channel_title']:\n",
    "    channel_list.append(len(i))\n",
    "\n",
    "print('The longest channel name is',\"'\"+data.iloc[np.array(channel_list).argmax()]['channel_title']+\"'.\",\n",
    "      '\\nThe shortest channel name is',\"'\"+data.iloc[np.array(channel_list).argmin()]['channel_title']+\"'.\")"
   ]
  },
  {
   "cell_type": "code",
   "execution_count": 19,
   "metadata": {},
   "outputs": [
    {
     "data": {
      "text/html": [
       "<div>\n",
       "<style scoped>\n",
       "    .dataframe tbody tr th:only-of-type {\n",
       "        vertical-align: middle;\n",
       "    }\n",
       "\n",
       "    .dataframe tbody tr th {\n",
       "        vertical-align: top;\n",
       "    }\n",
       "\n",
       "    .dataframe thead th {\n",
       "        text-align: right;\n",
       "    }\n",
       "</style>\n",
       "<table border=\"1\" class=\"dataframe\">\n",
       "  <thead>\n",
       "    <tr style=\"text-align: right;\">\n",
       "      <th></th>\n",
       "      <th></th>\n",
       "      <th>count</th>\n",
       "    </tr>\n",
       "    <tr>\n",
       "      <th>title</th>\n",
       "      <th>channel_title</th>\n",
       "      <th></th>\n",
       "    </tr>\n",
       "  </thead>\n",
       "  <tbody>\n",
       "    <tr>\n",
       "      <th>WE MADE OUR MOM CRY...HER DREAM CAME TRUE!</th>\n",
       "      <th>Lucas and Marcus</th>\n",
       "      <td>30</td>\n",
       "    </tr>\n",
       "    <tr>\n",
       "      <th>Why I'm So Scared (being myself and crying too much)</th>\n",
       "      <th>grav3yardgirl</th>\n",
       "      <td>29</td>\n",
       "    </tr>\n",
       "    <tr>\n",
       "      <th>Mission: Impossible - Fallout (2018) - Official Trailer - Paramount Pictures</th>\n",
       "      <th>Paramount Pictures</th>\n",
       "      <td>29</td>\n",
       "    </tr>\n",
       "    <tr>\n",
       "      <th>The ULTIMATE $30,000 Gaming PC Setup</th>\n",
       "      <th>Unbox Therapy</th>\n",
       "      <td>29</td>\n",
       "    </tr>\n",
       "    <tr>\n",
       "      <th>YoungBoy Never Broke Again Goes Sneaker Shopping With Complex</th>\n",
       "      <th>Complex</th>\n",
       "      <td>29</td>\n",
       "    </tr>\n",
       "  </tbody>\n",
       "</table>\n",
       "</div>"
      ],
      "text/plain": [
       "                                                                                                 count\n",
       "title                                                                        channel_title            \n",
       "WE MADE OUR MOM CRY...HER DREAM CAME TRUE!                                   Lucas and Marcus       30\n",
       "Why I'm So Scared (being myself and crying too much)                         grav3yardgirl          29\n",
       "Mission: Impossible - Fallout (2018) - Official Trailer - Paramount Pictures Paramount Pictures     29\n",
       "The ULTIMATE $30,000 Gaming PC Setup                                         Unbox Therapy          29\n",
       "YoungBoy Never Broke Again Goes Sneaker Shopping With Complex                Complex                29"
      ]
     },
     "execution_count": 19,
     "metadata": {},
     "output_type": "execute_result"
    }
   ],
   "source": [
    "pd.DataFrame(data[['title','channel_title']].value_counts().head())"
   ]
  },
  {
   "cell_type": "markdown",
   "metadata": {},
   "source": [
    "Even though the data in the two columns is not quite consistent in writing, this is understandable as long as this is a freedom given by **YouTube** as a service provider to video owners. However, due to changes in information made over time, the data will be transformed based on the maximum data from the `Trending Date` column. In other words, the data in both columns will be uniform using the most updated data attributes."
   ]
  },
  {
   "cell_type": "code",
   "execution_count": 20,
   "metadata": {},
   "outputs": [],
   "source": [
    "updated = data[['Video ID','title','channel_title','Trending Date']].groupby('Video ID')[[\n",
    "    'title','channel_title','Trending Date'\n",
    "]].transform('max')"
   ]
  },
  {
   "cell_type": "code",
   "execution_count": 21,
   "metadata": {},
   "outputs": [],
   "source": [
    "data['title'] = updated['title']\n",
    "data['channel_title'] = updated['channel_title']\n",
    "data.rename(columns={\n",
    "    'title':'Title',\n",
    "    'channel_title':'Channel'\n",
    "},inplace=True)"
   ]
  },
  {
   "cell_type": "markdown",
   "metadata": {},
   "source": [
    "Then the column names will be changed sequentially to `Title` and `Channel` so that these two names will be used in the following discussion."
   ]
  },
  {
   "cell_type": "markdown",
   "metadata": {},
   "source": [
    "##### **Feature Engineering**"
   ]
  },
  {
   "cell_type": "markdown",
   "metadata": {},
   "source": [
    "The `tags` column contains information about the context embedded by the video owner to help potential viewers find their videos."
   ]
  },
  {
   "cell_type": "code",
   "execution_count": 22,
   "metadata": {},
   "outputs": [
    {
     "data": {
      "text/html": [
       "<div>\n",
       "<style scoped>\n",
       "    .dataframe tbody tr th:only-of-type {\n",
       "        vertical-align: middle;\n",
       "    }\n",
       "\n",
       "    .dataframe tbody tr th {\n",
       "        vertical-align: top;\n",
       "    }\n",
       "\n",
       "    .dataframe thead th {\n",
       "        text-align: right;\n",
       "    }\n",
       "</style>\n",
       "<table border=\"1\" class=\"dataframe\">\n",
       "  <thead>\n",
       "    <tr style=\"text-align: right;\">\n",
       "      <th></th>\n",
       "      <th>tags</th>\n",
       "      <th>count</th>\n",
       "    </tr>\n",
       "  </thead>\n",
       "  <tbody>\n",
       "    <tr>\n",
       "      <th>0</th>\n",
       "      <td>[none]</td>\n",
       "      <td>1535</td>\n",
       "    </tr>\n",
       "    <tr>\n",
       "      <th>1</th>\n",
       "      <td>ABC|\"americanidol\"|\"idol\"|\"american idol\"|\"ryan\"|\"seacrest\"|\"ryan seacrest\"|\"katy\"|\"perry\"|\"katy perry\"|\"luke\"|\"bryan\"|\"luke bryan\"|\"lionel\"|\"richie\"|\"lionel richie\"|\"season 16\"|\"american idol XVI...</td>\n",
       "      <td>87</td>\n",
       "    </tr>\n",
       "    <tr>\n",
       "      <th>2</th>\n",
       "      <td>Jacksfilms|\"Jack Douglass\"|\"YGS\"|\"YGS 100\"|\"YGS 50\"|\"The Best of Your Grammar Sucks\"|\"Your Grammar Sucks\"|\"YIAY\"|\"Yesterday I Asked You\"|\"Fidget Spinners\"|\"Emoji Movie\"|\"Kermit Sings\"|\"JackAsk\"|\"J...</td>\n",
       "      <td>80</td>\n",
       "    </tr>\n",
       "  </tbody>\n",
       "</table>\n",
       "</div>"
      ],
      "text/plain": [
       "                                                                                                                                                                                                      tags  \\\n",
       "0                                                                                                                                                                                                   [none]   \n",
       "1  ABC|\"americanidol\"|\"idol\"|\"american idol\"|\"ryan\"|\"seacrest\"|\"ryan seacrest\"|\"katy\"|\"perry\"|\"katy perry\"|\"luke\"|\"bryan\"|\"luke bryan\"|\"lionel\"|\"richie\"|\"lionel richie\"|\"season 16\"|\"american idol XVI...   \n",
       "2  Jacksfilms|\"Jack Douglass\"|\"YGS\"|\"YGS 100\"|\"YGS 50\"|\"The Best of Your Grammar Sucks\"|\"Your Grammar Sucks\"|\"YIAY\"|\"Yesterday I Asked You\"|\"Fidget Spinners\"|\"Emoji Movie\"|\"Kermit Sings\"|\"JackAsk\"|\"J...   \n",
       "\n",
       "   count  \n",
       "0   1535  \n",
       "1     87  \n",
       "2     80  "
      ]
     },
     "execution_count": 22,
     "metadata": {},
     "output_type": "execute_result"
    }
   ],
   "source": [
    "pd.set_option('display.max_colwidth',200)\n",
    "pd.DataFrame(data['tags'].value_counts().head(3)).rename(columns={'tags':'Occurences'}).reset_index().rename(columns={'index':'tags'})"
   ]
  },
  {
   "cell_type": "markdown",
   "metadata": {},
   "source": [
    "The information contained does not have standard rules and tends to be inconsistent. However, the data has a vertical bar (\"|\") character as a separator between hashtags. In addition, there is data '[none]' which indicates no hashtags are used. From here, feature engineering is done to calculate how many hashtags are used in each video."
   ]
  },
  {
   "cell_type": "code",
   "execution_count": 23,
   "metadata": {},
   "outputs": [],
   "source": [
    "num_tags = []\n",
    "\n",
    "for tags in data['tags']:\n",
    "    if re.match(r'^\\[none]+$',tags):\n",
    "        num_tags.append(0)\n",
    "        continue\n",
    "    num_tags.append(len(tags.split('|')))\n",
    "\n",
    "data['Total Tags'] = num_tags\n",
    "data.rename(columns={'tags':'Tags'},inplace=True)"
   ]
  },
  {
   "cell_type": "markdown",
   "metadata": {},
   "source": [
    "The column for the number of hashtags used will be named `Total Tags`. Then, the `tags` column itself will be renamed to `Tags` so that the new name will be used in further discussion."
   ]
  },
  {
   "cell_type": "code",
   "execution_count": 24,
   "metadata": {},
   "outputs": [
    {
     "data": {
      "text/html": [
       "<div>\n",
       "<style scoped>\n",
       "    .dataframe tbody tr th:only-of-type {\n",
       "        vertical-align: middle;\n",
       "    }\n",
       "\n",
       "    .dataframe tbody tr th {\n",
       "        vertical-align: top;\n",
       "    }\n",
       "\n",
       "    .dataframe thead th {\n",
       "        text-align: right;\n",
       "    }\n",
       "</style>\n",
       "<table border=\"1\" class=\"dataframe\">\n",
       "  <thead>\n",
       "    <tr style=\"text-align: right;\">\n",
       "      <th></th>\n",
       "      <th>Count</th>\n",
       "      <th>count</th>\n",
       "    </tr>\n",
       "  </thead>\n",
       "  <tbody>\n",
       "    <tr>\n",
       "      <th>0</th>\n",
       "      <td>0</td>\n",
       "      <td>1535</td>\n",
       "    </tr>\n",
       "    <tr>\n",
       "      <th>1</th>\n",
       "      <td>10</td>\n",
       "      <td>1447</td>\n",
       "    </tr>\n",
       "    <tr>\n",
       "      <th>2</th>\n",
       "      <td>4</td>\n",
       "      <td>1405</td>\n",
       "    </tr>\n",
       "    <tr>\n",
       "      <th>3</th>\n",
       "      <td>7</td>\n",
       "      <td>1388</td>\n",
       "    </tr>\n",
       "    <tr>\n",
       "      <th>4</th>\n",
       "      <td>13</td>\n",
       "      <td>1299</td>\n",
       "    </tr>\n",
       "  </tbody>\n",
       "</table>\n",
       "</div>"
      ],
      "text/plain": [
       "   Count  count\n",
       "0      0   1535\n",
       "1     10   1447\n",
       "2      4   1405\n",
       "3      7   1388\n",
       "4     13   1299"
      ]
     },
     "execution_count": 24,
     "metadata": {},
     "output_type": "execute_result"
    }
   ],
   "source": [
    "pd.DataFrame(data['Total Tags'].value_counts().head().reset_index().rename(columns={\n",
    "    'index':'Tags Used',\n",
    "    'Total Tags':'Count'\n",
    "}))"
   ]
  },
  {
   "cell_type": "markdown",
   "metadata": {},
   "source": [
    "The number of videos that don't use hashtags is in first place. Next, other features will be extracted from the `Tags` column, namely common tags which are classified based on the `Video ID` column."
   ]
  },
  {
   "cell_type": "code",
   "execution_count": 25,
   "metadata": {},
   "outputs": [
    {
     "data": {
      "text/html": [
       "<div>\n",
       "<style scoped>\n",
       "    .dataframe tbody tr th:only-of-type {\n",
       "        vertical-align: middle;\n",
       "    }\n",
       "\n",
       "    .dataframe tbody tr th {\n",
       "        vertical-align: top;\n",
       "    }\n",
       "\n",
       "    .dataframe thead th {\n",
       "        text-align: right;\n",
       "    }\n",
       "</style>\n",
       "<table border=\"1\" class=\"dataframe\">\n",
       "  <thead>\n",
       "    <tr style=\"text-align: right;\">\n",
       "      <th></th>\n",
       "      <th></th>\n",
       "      <th>Occurences</th>\n",
       "    </tr>\n",
       "    <tr>\n",
       "      <th>Video ID</th>\n",
       "      <th>Tags</th>\n",
       "      <th></th>\n",
       "    </tr>\n",
       "  </thead>\n",
       "  <tbody>\n",
       "    <tr>\n",
       "      <th>-0CMnp02rNY</th>\n",
       "      <th>ellen|\"ellen degeneres\"|\"the ellen show\"|\"ellentube\"|\"ellen audience\"|\"season 15 episode 165\"|\"mindy kaling\"|\"mindy kaling baby\"|\"oprah\"|\"mindy\"|\"kaling\"|\"mindy kaling the office\"|\"mindy kaling a wrinkle in time\"|\"mindy kaling and b.j. novak\"|\"katherine\"|\"oprahs house\"|\"ellen fans\"|\"ellen tickets\"|\"season 15\"|\"daughter\"|\"mindy kaling daughter\"|\"bj novak\"|\"baby daddy\"|\"ocean's 8\"|\"oceans 8 movie\"|\"the office\"|\"interview\"|\"new\"|\"funny\"|\"hilarious\"|\"sandra bullock\"|\"anne hathaway\"|\"wrinkle in time\"</th>\n",
       "      <td>6</td>\n",
       "    </tr>\n",
       "    <tr>\n",
       "      <th>-0NYY8cqdiQ</th>\n",
       "      <th>megan mullally|\"megan\"|\"mullally\"|\"will and grace\"|\"karen on will and grace\"|\"actress\"|\"nick offerman\"|\"Ellen\"|\"degeneres\"|\"ellen degeneres\"|\"the ellen show\"|\"ellen fans\"|\"ellen tickets\"|\"ellentube\"|\"ellen audience\"|\"will\"|\"grace\"|\"karen\"|\"roomats\"|\"funny\"|\"interview\"|\"nick\"|\"offerman\"|\"wedding\"|\"marriage\"|\"roomates\"|\"story\"|\"hilarious\"|\"bobs burgers\"|\"emmy\"|\"hobby\"|\"females\"|\"naive\"</th>\n",
       "      <td>1</td>\n",
       "    </tr>\n",
       "    <tr>\n",
       "      <th>-1Hm41N0dUs</th>\n",
       "      <th>jimmy|\"jimmy kimmel\"|\"jimmy kimmel live\"|\"late night\"|\"talk show\"|\"funny\"|\"comedic\"|\"comedy\"|\"clip\"|\"comedian\"|\"mean tweets\"|\"Benedict Cumberbatch\"|\"Don Cheadle\"|\"Elizabeth Olsen\"|\"winston duke\"|\"avengers: infinity war\"|\"marvel\"|\"marvel cinematic universe\"|\"scarlet witch\"|\"war machine\"|\"doctor strange\"|\"m'baku\"|\"black panther\"</th>\n",
       "      <td>3</td>\n",
       "    </tr>\n",
       "    <tr>\n",
       "      <th>-1yT-K3c6YI</th>\n",
       "      <th>youtube quiz|\"youtuber quiz\"|\"truth or dare\"|\"exposed\"|\"youtube crush\"|\"molly burk\"|\"collab\"|\"collaboration\"</th>\n",
       "      <td>4</td>\n",
       "    </tr>\n",
       "    <tr>\n",
       "      <th>-2RVw2_QyxQ</th>\n",
       "      <th>Chess|\"Saint Louis\"|\"Club\"</th>\n",
       "      <td>3</td>\n",
       "    </tr>\n",
       "  </tbody>\n",
       "</table>\n",
       "</div>"
      ],
      "text/plain": [
       "                                                                                                                                                                                                                      Occurences\n",
       "Video ID    Tags                                                                                                                                                                                                                \n",
       "-0CMnp02rNY ellen|\"ellen degeneres\"|\"the ellen show\"|\"ellentube\"|\"ellen audience\"|\"season 15 episode 165\"|\"mindy kaling\"|\"mindy kaling baby\"|\"oprah\"|\"mindy\"|\"kaling\"|\"mindy kaling the office\"|\"mindy kaling a w...           6\n",
       "-0NYY8cqdiQ megan mullally|\"megan\"|\"mullally\"|\"will and grace\"|\"karen on will and grace\"|\"actress\"|\"nick offerman\"|\"Ellen\"|\"degeneres\"|\"ellen degeneres\"|\"the ellen show\"|\"ellen fans\"|\"ellen tickets\"|\"ellentube...           1\n",
       "-1Hm41N0dUs jimmy|\"jimmy kimmel\"|\"jimmy kimmel live\"|\"late night\"|\"talk show\"|\"funny\"|\"comedic\"|\"comedy\"|\"clip\"|\"comedian\"|\"mean tweets\"|\"Benedict Cumberbatch\"|\"Don Cheadle\"|\"Elizabeth Olsen\"|\"winston duke\"|\"a...           3\n",
       "-1yT-K3c6YI youtube quiz|\"youtuber quiz\"|\"truth or dare\"|\"exposed\"|\"youtube crush\"|\"molly burk\"|\"collab\"|\"collaboration\"                                                                                                       4\n",
       "-2RVw2_QyxQ Chess|\"Saint Louis\"|\"Club\"                                                                                                                                                                                         3"
      ]
     },
     "execution_count": 25,
     "metadata": {},
     "output_type": "execute_result"
    }
   ],
   "source": [
    "data.pivot_table(\n",
    "    index=['Video ID','Tags'],\n",
    "    values=['Total Tags'],\n",
    "    aggfunc='count').head().rename(columns={'Total Tags':'Occurences'}\n",
    ")"
   ]
  },
  {
   "cell_type": "markdown",
   "metadata": {},
   "source": [
    "From here, common tags will collect any hashtags from a video that are also used by other videos, both when adding or removing related videos. The first step is to take each data in the `Tags` column and clean it from vertical bar (\"|\") and comma (\",\") characters. Next, a dictionary list will be created consisting of data in the `Video ID` column as keys and the `Tags` column as values."
   ]
  },
  {
   "cell_type": "code",
   "execution_count": 26,
   "metadata": {},
   "outputs": [],
   "source": [
    "common_list = []\n",
    "\n",
    "for i in data.pivot_table(index=['Video ID','Tags'],values=['Total Tags']).reset_index()[['Video ID','Tags']].values:\n",
    "    scrub_dirt = re.sub(r'[|]',',',i[1])\n",
    "    common_list.append({i[0]:re.sub(r'[\"]','',scrub_dirt).split(',')})"
   ]
  },
  {
   "cell_type": "markdown",
   "metadata": {},
   "source": [
    "Each dictionary will be temporarily accommodated in dictionary list with the name `common_list`. Then, it will search for intersection of a list with all other lists so that common tags from each related video are found. This process takes a long time depending on the number of hashtags in a list and the number of dictionaries of the dictionary list itself."
   ]
  },
  {
   "cell_type": "code",
   "execution_count": 27,
   "metadata": {},
   "outputs": [
    {
     "data": {
      "text/html": [
       "<div>\n",
       "<style scoped>\n",
       "    .dataframe tbody tr th:only-of-type {\n",
       "        vertical-align: middle;\n",
       "    }\n",
       "\n",
       "    .dataframe tbody tr th {\n",
       "        vertical-align: top;\n",
       "    }\n",
       "\n",
       "    .dataframe thead th {\n",
       "        text-align: right;\n",
       "    }\n",
       "</style>\n",
       "<table border=\"1\" class=\"dataframe\">\n",
       "  <thead>\n",
       "    <tr style=\"text-align: right;\">\n",
       "      <th></th>\n",
       "      <th>Video ID</th>\n",
       "      <th>Tags</th>\n",
       "      <th>Common</th>\n",
       "    </tr>\n",
       "  </thead>\n",
       "  <tbody>\n",
       "    <tr>\n",
       "      <th>0</th>\n",
       "      <td>-0CMnp02rNY</td>\n",
       "      <td>ellen|\"ellen degeneres\"|\"the ellen show\"|\"ellentube\"|\"ellen audience\"|\"season 15 episode 165\"|\"mindy kaling\"|\"mindy kaling baby\"|\"oprah\"|\"mindy\"|\"kaling\"|\"mindy kaling the office\"|\"mindy kaling a ...</td>\n",
       "      <td>[hilarious, new, ellen tickets, baby daddy, funny, ellen fans, daughter, mindy kaling, interview, ellen audience, the ellen show, season 15, katherine, sandra bullock, ellentube, the office, ellen...</td>\n",
       "    </tr>\n",
       "    <tr>\n",
       "      <th>1</th>\n",
       "      <td>-0NYY8cqdiQ</td>\n",
       "      <td>megan mullally|\"megan\"|\"mullally\"|\"will and grace\"|\"karen on will and grace\"|\"actress\"|\"nick offerman\"|\"Ellen\"|\"degeneres\"|\"ellen degeneres\"|\"the ellen show\"|\"ellen fans\"|\"ellen tickets\"|\"ellentub...</td>\n",
       "      <td>[hilarious, will and grace, ellen tickets, funny, ellen fans, will, wedding, hobby, story, degeneres, interview, ellen audience, the ellen show, actress, Ellen, bobs burgers, nick, ellentube, grac...</td>\n",
       "    </tr>\n",
       "    <tr>\n",
       "      <th>2</th>\n",
       "      <td>-1Hm41N0dUs</td>\n",
       "      <td>jimmy|\"jimmy kimmel\"|\"jimmy kimmel live\"|\"late night\"|\"talk show\"|\"funny\"|\"comedic\"|\"comedy\"|\"clip\"|\"comedian\"|\"mean tweets\"|\"Benedict Cumberbatch\"|\"Don Cheadle\"|\"Elizabeth Olsen\"|\"winston duke\"|\"...</td>\n",
       "      <td>[talk show, marvel, comedic, funny, comedy, late night, avengers: infinity war, jimmy, doctor strange, m'baku, Don Cheadle, Elizabeth Olsen, comedian, jimmy kimmel, Benedict Cumberbatch, mean twee...</td>\n",
       "    </tr>\n",
       "    <tr>\n",
       "      <th>3</th>\n",
       "      <td>-1yT-K3c6YI</td>\n",
       "      <td>youtube quiz|\"youtuber quiz\"|\"truth or dare\"|\"exposed\"|\"youtube crush\"|\"molly burk\"|\"collab\"|\"collaboration\"</td>\n",
       "      <td>[truth or dare, collaboration, collab, exposed]</td>\n",
       "    </tr>\n",
       "    <tr>\n",
       "      <th>4</th>\n",
       "      <td>-2RVw2_QyxQ</td>\n",
       "      <td>Chess|\"Saint Louis\"|\"Club\"</td>\n",
       "      <td>[Chess, Saint Louis, Club]</td>\n",
       "    </tr>\n",
       "  </tbody>\n",
       "</table>\n",
       "</div>"
      ],
      "text/plain": [
       "      Video ID  \\\n",
       "0  -0CMnp02rNY   \n",
       "1  -0NYY8cqdiQ   \n",
       "2  -1Hm41N0dUs   \n",
       "3  -1yT-K3c6YI   \n",
       "4  -2RVw2_QyxQ   \n",
       "\n",
       "                                                                                                                                                                                                      Tags  \\\n",
       "0  ellen|\"ellen degeneres\"|\"the ellen show\"|\"ellentube\"|\"ellen audience\"|\"season 15 episode 165\"|\"mindy kaling\"|\"mindy kaling baby\"|\"oprah\"|\"mindy\"|\"kaling\"|\"mindy kaling the office\"|\"mindy kaling a ...   \n",
       "1  megan mullally|\"megan\"|\"mullally\"|\"will and grace\"|\"karen on will and grace\"|\"actress\"|\"nick offerman\"|\"Ellen\"|\"degeneres\"|\"ellen degeneres\"|\"the ellen show\"|\"ellen fans\"|\"ellen tickets\"|\"ellentub...   \n",
       "2  jimmy|\"jimmy kimmel\"|\"jimmy kimmel live\"|\"late night\"|\"talk show\"|\"funny\"|\"comedic\"|\"comedy\"|\"clip\"|\"comedian\"|\"mean tweets\"|\"Benedict Cumberbatch\"|\"Don Cheadle\"|\"Elizabeth Olsen\"|\"winston duke\"|\"...   \n",
       "3                                                                                             youtube quiz|\"youtuber quiz\"|\"truth or dare\"|\"exposed\"|\"youtube crush\"|\"molly burk\"|\"collab\"|\"collaboration\"   \n",
       "4                                                                                                                                                                               Chess|\"Saint Louis\"|\"Club\"   \n",
       "\n",
       "                                                                                                                                                                                                    Common  \n",
       "0  [hilarious, new, ellen tickets, baby daddy, funny, ellen fans, daughter, mindy kaling, interview, ellen audience, the ellen show, season 15, katherine, sandra bullock, ellentube, the office, ellen...  \n",
       "1  [hilarious, will and grace, ellen tickets, funny, ellen fans, will, wedding, hobby, story, degeneres, interview, ellen audience, the ellen show, actress, Ellen, bobs burgers, nick, ellentube, grac...  \n",
       "2  [talk show, marvel, comedic, funny, comedy, late night, avengers: infinity war, jimmy, doctor strange, m'baku, Don Cheadle, Elizabeth Olsen, comedian, jimmy kimmel, Benedict Cumberbatch, mean twee...  \n",
       "3                                                                                                                                                          [truth or dare, collaboration, collab, exposed]  \n",
       "4                                                                                                                                                                               [Chess, Saint Louis, Club]  "
      ]
     },
     "execution_count": 27,
     "metadata": {},
     "output_type": "execute_result"
    }
   ],
   "source": [
    "from functools import reduce\n",
    "\n",
    "common = []\n",
    "\n",
    "for i in common_list:\n",
    "    stacked_tags = []\n",
    "    for n in common_list:\n",
    "        intersect_tags = []\n",
    "        if (list(i.keys()).pop() != list(n.keys()).pop()) and '[none]' not in list(i.values()).pop():\n",
    "            intersection = [list(i.values()).pop(),list(n.values()).pop()]\n",
    "            intersect_tags.append(reduce(lambda x,y: set(x) & set(y),intersection))\n",
    "        try:\n",
    "            stacked_tags.append(reduce(lambda x,y: set(x) & set(y),intersect_tags))\n",
    "        except:\n",
    "            stacked_tags.append(set())\n",
    "    common.append(list(set().union(*stacked_tags)))\n",
    "\n",
    "tags_df = data.pivot_table(index=['Video ID','Tags'],values=['Total Tags']).reset_index()[['Video ID','Tags']]\n",
    "tags_df['Common'] = pd.Series(common)\n",
    "tags_df.head()"
   ]
  },
  {
   "cell_type": "markdown",
   "metadata": {},
   "source": [
    "Then the data in the `Common` column of dataframe `tags_df` will be transformed into the `Common` column of dataframe `data` based on the classification of the `Video ID` and ` Tags`. Therefore, a new temporary column named `temp_key` will be created on each dataframe."
   ]
  },
  {
   "cell_type": "code",
   "execution_count": 28,
   "metadata": {},
   "outputs": [],
   "source": [
    "(data['temp_key'],tags_df['temp_key']) = (\n",
    "    data['Video ID'].astype(str) + data['Tags'].astype(str),\n",
    "    tags_df['Video ID'].astype(str) + tags_df['Tags'].astype(str)\n",
    ")\n",
    "\n",
    "data['Common'] = data['temp_key'].map(tags_df.set_index('temp_key')['Common'])\n",
    "data.drop('temp_key',axis=1,inplace=True)"
   ]
  },
  {
   "cell_type": "markdown",
   "metadata": {},
   "source": [
    "After the transformation process is complete, the `temp_key` field in dataframe `data` needs to be deleted. Then a new feature will be created in the column `Common Rate (%)` to measure the percentage of the number of common tags of a video based on the total hashtags used."
   ]
  },
  {
   "cell_type": "code",
   "execution_count": 29,
   "metadata": {},
   "outputs": [],
   "source": [
    "def imputed_common_rate(rate):\n",
    "    try:\n",
    "        return (len(rate[0])/rate[1])*100\n",
    "    except ZeroDivisionError:\n",
    "        return float(0)\n",
    "\n",
    "data['Common Rate (%)'] = data[['Common','Total Tags']].apply(imputed_common_rate,axis=1)\n",
    "data['Common Rate (%)'] = data[['Common Rate (%)']].apply(lambda row: row.map('{:.2f}'.format),axis=1).astype('float64')"
   ]
  },
  {
   "cell_type": "markdown",
   "metadata": {},
   "source": [
    "Furthermore, from the `Common Rate (%)` column, similarity degree of a video and other videos can be found by looking at the number of hashtags used together. The goal is to find out the similarity level based on the context used. A new column named `Similarity` can be created based on the data in the `Common Rate (%)` column with the following conditions:\n",
    "\n",
    "1. If it is equal to 100 %, then the label is 'Identical'.\n",
    "\n",
    "1. If more than 75%, then the label is 'Similar'.\n",
    "1. If between 50% to 75%, then the label is 'Alike'.\n",
    "1. If between 25% to 50%, then the label is 'Somewhat'.\n",
    "1. If between 0 % to 25 %, then the label is 'Slight'.\n",
    "1. If not at all, then the label is 'Distinct'."
   ]
  },
  {
   "cell_type": "code",
   "execution_count": 30,
   "metadata": {},
   "outputs": [
    {
     "data": {
      "text/html": [
       "<div>\n",
       "<style scoped>\n",
       "    .dataframe tbody tr th:only-of-type {\n",
       "        vertical-align: middle;\n",
       "    }\n",
       "\n",
       "    .dataframe tbody tr th {\n",
       "        vertical-align: top;\n",
       "    }\n",
       "\n",
       "    .dataframe thead th {\n",
       "        text-align: right;\n",
       "    }\n",
       "</style>\n",
       "<table border=\"1\" class=\"dataframe\">\n",
       "  <thead>\n",
       "    <tr style=\"text-align: right;\">\n",
       "      <th></th>\n",
       "      <th>count</th>\n",
       "    </tr>\n",
       "    <tr>\n",
       "      <th>Similarity</th>\n",
       "      <th></th>\n",
       "    </tr>\n",
       "  </thead>\n",
       "  <tbody>\n",
       "    <tr>\n",
       "      <th>Alike</th>\n",
       "      <td>12774</td>\n",
       "    </tr>\n",
       "    <tr>\n",
       "      <th>Similar</th>\n",
       "      <td>11265</td>\n",
       "    </tr>\n",
       "    <tr>\n",
       "      <th>Somewhat</th>\n",
       "      <td>7005</td>\n",
       "    </tr>\n",
       "    <tr>\n",
       "      <th>Identical</th>\n",
       "      <td>4506</td>\n",
       "    </tr>\n",
       "    <tr>\n",
       "      <th>Slight</th>\n",
       "      <td>2978</td>\n",
       "    </tr>\n",
       "    <tr>\n",
       "      <th>Distinct</th>\n",
       "      <td>2421</td>\n",
       "    </tr>\n",
       "  </tbody>\n",
       "</table>\n",
       "</div>"
      ],
      "text/plain": [
       "            count\n",
       "Similarity       \n",
       "Alike       12774\n",
       "Similar     11265\n",
       "Somewhat     7005\n",
       "Identical    4506\n",
       "Slight       2978\n",
       "Distinct     2421"
      ]
     },
     "execution_count": 30,
     "metadata": {},
     "output_type": "execute_result"
    }
   ],
   "source": [
    "def imputed_similarity(rate):\n",
    "    if rate == 100:\n",
    "        return 'Identical'\n",
    "    elif rate >= 75 and rate <100:\n",
    "        return 'Similar'\n",
    "    elif rate >= 50 and rate < 75:\n",
    "        return 'Alike'\n",
    "    elif rate >= 25 and rate < 50:\n",
    "        return 'Somewhat'\n",
    "    elif rate > 0 and rate < 25:\n",
    "        return 'Slight'\n",
    "    else:\n",
    "        return 'Distinct'\n",
    "\n",
    "data['Similarity'] = data['Common Rate (%)'].apply(imputed_similarity)\n",
    "pd.DataFrame(data['Similarity'].value_counts()).rename(columns={'Similarity':'Occurences'})"
   ]
  },
  {
   "cell_type": "markdown",
   "metadata": {},
   "source": [
    "Next, the `Tags` column will be cleaned of inappropriate characters and the data type will be changed to list."
   ]
  },
  {
   "cell_type": "code",
   "execution_count": 31,
   "metadata": {},
   "outputs": [
    {
     "data": {
      "text/html": [
       "<div>\n",
       "<style scoped>\n",
       "    .dataframe tbody tr th:only-of-type {\n",
       "        vertical-align: middle;\n",
       "    }\n",
       "\n",
       "    .dataframe tbody tr th {\n",
       "        vertical-align: top;\n",
       "    }\n",
       "\n",
       "    .dataframe thead th {\n",
       "        text-align: right;\n",
       "    }\n",
       "</style>\n",
       "<table border=\"1\" class=\"dataframe\">\n",
       "  <thead>\n",
       "    <tr style=\"text-align: right;\">\n",
       "      <th></th>\n",
       "      <th>Tags</th>\n",
       "    </tr>\n",
       "  </thead>\n",
       "  <tbody>\n",
       "    <tr>\n",
       "      <th>0</th>\n",
       "      <td>[SHANtell martin]</td>\n",
       "    </tr>\n",
       "    <tr>\n",
       "      <th>1</th>\n",
       "      <td>[last week tonight trump presidency, last week tonight donald trump, john oliver trump, donald trump]</td>\n",
       "    </tr>\n",
       "    <tr>\n",
       "      <th>2</th>\n",
       "      <td>[racist superman, rudy, mancuso, king, bach, racist, superman, love, rudy mancuso poo bear black white official music video, iphone x by pineapple...</td>\n",
       "    </tr>\n",
       "    <tr>\n",
       "      <th>3</th>\n",
       "      <td>[rhett and link, gmm, good mythical morning, rhett and link good mythical morning, good mythical morning rhett and link, mythical morning, Season ...</td>\n",
       "    </tr>\n",
       "    <tr>\n",
       "      <th>4</th>\n",
       "      <td>[ryan, higa, higatv, nigahiga, i dare you, idy, rhpc, dares, no truth, comments, comedy, funny, stupid, fail]</td>\n",
       "    </tr>\n",
       "  </tbody>\n",
       "</table>\n",
       "</div>"
      ],
      "text/plain": [
       "                                                                                                                                                    Tags\n",
       "0                                                                                                                                      [SHANtell martin]\n",
       "1                                                  [last week tonight trump presidency, last week tonight donald trump, john oliver trump, donald trump]\n",
       "2  [racist superman, rudy, mancuso, king, bach, racist, superman, love, rudy mancuso poo bear black white official music video, iphone x by pineapple...\n",
       "3  [rhett and link, gmm, good mythical morning, rhett and link good mythical morning, good mythical morning rhett and link, mythical morning, Season ...\n",
       "4                                          [ryan, higa, higatv, nigahiga, i dare you, idy, rhpc, dares, no truth, comments, comedy, funny, stupid, fail]"
      ]
     },
     "execution_count": 31,
     "metadata": {},
     "output_type": "execute_result"
    }
   ],
   "source": [
    "def cleaning_hashtags(tags):\n",
    "    if tags == '[none]':\n",
    "        return ['']\n",
    "    scrub_dirt = re.sub(r'[|]',',',tags)\n",
    "    return re.sub(r'[\"]','',scrub_dirt).split(',')\n",
    "\n",
    "data['Tags'] = data['Tags'].apply(cleaning_hashtags)\n",
    "pd.set_option('display.max_colwidth',150)\n",
    "data[['Tags']].head()"
   ]
  },
  {
   "cell_type": "markdown",
   "metadata": {},
   "source": [
    "The four columns `views`, `likes`, `dislikes` and `comment_count` contain information about the cumulative number of occurrences of related videos. The number tends to increase from day to day as long as the video is trending. Descriptive statistics regarding these columns can be seen as follows."
   ]
  },
  {
   "cell_type": "code",
   "execution_count": 32,
   "metadata": {},
   "outputs": [
    {
     "data": {
      "text/html": [
       "<div>\n",
       "<style scoped>\n",
       "    .dataframe tbody tr th:only-of-type {\n",
       "        vertical-align: middle;\n",
       "    }\n",
       "\n",
       "    .dataframe tbody tr th {\n",
       "        vertical-align: top;\n",
       "    }\n",
       "\n",
       "    .dataframe thead th {\n",
       "        text-align: right;\n",
       "    }\n",
       "</style>\n",
       "<table border=\"1\" class=\"dataframe\">\n",
       "  <thead>\n",
       "    <tr style=\"text-align: right;\">\n",
       "      <th></th>\n",
       "      <th>views</th>\n",
       "      <th>likes</th>\n",
       "      <th>dislikes</th>\n",
       "      <th>comment_count</th>\n",
       "    </tr>\n",
       "  </thead>\n",
       "  <tbody>\n",
       "    <tr>\n",
       "      <th>count</th>\n",
       "      <td>40949.0</td>\n",
       "      <td>40949.0</td>\n",
       "      <td>40949.0</td>\n",
       "      <td>40949.0</td>\n",
       "    </tr>\n",
       "    <tr>\n",
       "      <th>mean</th>\n",
       "      <td>2360784.64</td>\n",
       "      <td>74266.70</td>\n",
       "      <td>3711.40</td>\n",
       "      <td>8446.80</td>\n",
       "    </tr>\n",
       "    <tr>\n",
       "      <th>std</th>\n",
       "      <td>7394113.76</td>\n",
       "      <td>228885.34</td>\n",
       "      <td>29029.71</td>\n",
       "      <td>37430.49</td>\n",
       "    </tr>\n",
       "    <tr>\n",
       "      <th>min</th>\n",
       "      <td>549.0</td>\n",
       "      <td>0.0</td>\n",
       "      <td>0.0</td>\n",
       "      <td>0.0</td>\n",
       "    </tr>\n",
       "    <tr>\n",
       "      <th>25%</th>\n",
       "      <td>242329.0</td>\n",
       "      <td>5424.0</td>\n",
       "      <td>202.0</td>\n",
       "      <td>614.0</td>\n",
       "    </tr>\n",
       "    <tr>\n",
       "      <th>50%</th>\n",
       "      <td>681861.0</td>\n",
       "      <td>18091.0</td>\n",
       "      <td>631.0</td>\n",
       "      <td>1856.0</td>\n",
       "    </tr>\n",
       "    <tr>\n",
       "      <th>75%</th>\n",
       "      <td>1823157.0</td>\n",
       "      <td>55417.0</td>\n",
       "      <td>1938.0</td>\n",
       "      <td>5755.0</td>\n",
       "    </tr>\n",
       "    <tr>\n",
       "      <th>max</th>\n",
       "      <td>225211923.0</td>\n",
       "      <td>5613827.0</td>\n",
       "      <td>1674420.0</td>\n",
       "      <td>1361580.0</td>\n",
       "    </tr>\n",
       "  </tbody>\n",
       "</table>\n",
       "</div>"
      ],
      "text/plain": [
       "             views      likes   dislikes comment_count\n",
       "count      40949.0    40949.0    40949.0       40949.0\n",
       "mean    2360784.64   74266.70    3711.40       8446.80\n",
       "std     7394113.76  228885.34   29029.71      37430.49\n",
       "min          549.0        0.0        0.0           0.0\n",
       "25%       242329.0     5424.0      202.0         614.0\n",
       "50%       681861.0    18091.0      631.0        1856.0\n",
       "75%      1823157.0    55417.0     1938.0        5755.0\n",
       "max    225211923.0  5613827.0  1674420.0     1361580.0"
      ]
     },
     "execution_count": 32,
     "metadata": {},
     "output_type": "execute_result"
    }
   ],
   "source": [
    "numeric = data[['views','likes','dislikes','comment_count']].describe()\n",
    "numeric.iloc[1:3] = numeric.iloc[1:3].apply(lambda row: row.map('{:.2f}'.format),axis=1)\n",
    "numeric"
   ]
  },
  {
   "cell_type": "markdown",
   "metadata": {},
   "source": [
    "The amount of data listed for each column is 40949 data along with information on the distribution and data center points. From this information we can perform a feature engineering process. Among them is to calculate the engagement rate obtained from dividing the number of likes and comments to the number of views and save the data in the `Engagement Rate (%)` column."
   ]
  },
  {
   "cell_type": "code",
   "execution_count": 33,
   "metadata": {},
   "outputs": [],
   "source": [
    "data['Engagement Rate (%)'] = data[['views','likes','comment_count']].apply(lambda x: ((x[1]+x[2])/x[0])*100,axis=1)\n",
    "data['Engagement Rate (%)'] = data[['Engagement Rate (%)']].apply(lambda row: row.map('{:.2f}'.format),axis=1).astype('float64')"
   ]
  },
  {
   "cell_type": "markdown",
   "metadata": {},
   "source": [
    "Then a new column named `Quality` will also be created as a representative value of the `Engagement Rate (%)` column with the following provisions:\n",
    "1. If more than or equal to 15%, then the quality is 'Excellent'.\n",
    "\n",
    "2. If between 3% to 15%, then the quality is 'Good'.\n",
    "3. If it is between 1% and 3%, then the quality is 'Fair'.\n",
    "4. If it is below 1%, then the quality is 'Poor'."
   ]
  },
  {
   "cell_type": "code",
   "execution_count": 34,
   "metadata": {},
   "outputs": [],
   "source": [
    "def imputed(rate):\n",
    "    return ('Excellent' if rate >= 15.0 else 'Good' if rate < 15.0 and rate >= 3.0 \n",
    "            else 'Fair' if rate < 3.0 and rate >= 1.0 else 'Poor')\n",
    "\n",
    "data['Quality'] = data['Engagement Rate (%)'].apply(imputed)"
   ]
  },
  {
   "cell_type": "markdown",
   "metadata": {},
   "source": [
    "Next, the column names `views`, `likes`, `dislikes`, and `comment_count` will be edited to be more tidy so that the new names will be used in further discussion."
   ]
  },
  {
   "cell_type": "code",
   "execution_count": 35,
   "metadata": {},
   "outputs": [],
   "source": [
    "data = data.rename(columns={\n",
    "    'views':'Views',\n",
    "    'likes':'Likes',\n",
    "    'dislikes':'Dislikes',\n",
    "    'comment_count':'Comments'\n",
    "})"
   ]
  },
  {
   "cell_type": "markdown",
   "metadata": {},
   "source": [
    "##### **Dropping Unnecessary**"
   ]
  },
  {
   "cell_type": "markdown",
   "metadata": {},
   "source": [
    "After the necessary features have been created, the next step is to clean dataset from unnecessary columns and it would be much better if column reordering was done to facilitate the data analysis process. The columns to be removed include `thumbnail_link` and `description` for the following reasons:\n",
    "1. The column `thumbnail_link` is a link from a related video which information can identify whether a `Video ID` is unique or not. Since `Video ID` has been confirmed not to be duplicated in the previous process, this column is no longer needed.\n",
    "\n",
    "1. The `description` column does not have strong enough reasons to be used as a consideration in measuring the popularity metrics of a video. The information reviewed is only promotional, informational, collaborative, solicitation, explanatory in nature, and can even be left blank. Therefore, this column will also be deleted."
   ]
  },
  {
   "cell_type": "code",
   "execution_count": 36,
   "metadata": {},
   "outputs": [
    {
     "data": {
      "text/html": [
       "<div>\n",
       "<style scoped>\n",
       "    .dataframe tbody tr th:only-of-type {\n",
       "        vertical-align: middle;\n",
       "    }\n",
       "\n",
       "    .dataframe tbody tr th {\n",
       "        vertical-align: top;\n",
       "    }\n",
       "\n",
       "    .dataframe thead th {\n",
       "        text-align: right;\n",
       "    }\n",
       "</style>\n",
       "<table border=\"1\" class=\"dataframe\">\n",
       "  <thead>\n",
       "    <tr style=\"text-align: right;\">\n",
       "      <th></th>\n",
       "      <th>Video ID</th>\n",
       "      <th>Title</th>\n",
       "      <th>Channel</th>\n",
       "      <th>Category</th>\n",
       "      <th>Publish Date</th>\n",
       "      <th>Trending Date</th>\n",
       "      <th>Views</th>\n",
       "      <th>Likes</th>\n",
       "      <th>Comments</th>\n",
       "      <th>Engagement Rate (%)</th>\n",
       "      <th>Quality</th>\n",
       "      <th>Dislikes</th>\n",
       "      <th>Tags</th>\n",
       "      <th>Total Tags</th>\n",
       "      <th>Common</th>\n",
       "      <th>Common Rate (%)</th>\n",
       "      <th>Similarity</th>\n",
       "      <th>Ratings Feature</th>\n",
       "      <th>Comments Feature</th>\n",
       "      <th>Video Availability</th>\n",
       "    </tr>\n",
       "  </thead>\n",
       "  <tbody>\n",
       "    <tr>\n",
       "      <th>0</th>\n",
       "      <td>2kyS6SvSYSE</td>\n",
       "      <td>WE WANT TO TALK ABOUT OUR MARRIAGE</td>\n",
       "      <td>CaseyNeistat</td>\n",
       "      <td>People &amp; Blogs</td>\n",
       "      <td>2017-11-13</td>\n",
       "      <td>2017-11-14</td>\n",
       "      <td>748374</td>\n",
       "      <td>57527</td>\n",
       "      <td>15954</td>\n",
       "      <td>9.82</td>\n",
       "      <td>Good</td>\n",
       "      <td>2966</td>\n",
       "      <td>[SHANtell martin]</td>\n",
       "      <td>1</td>\n",
       "      <td>[]</td>\n",
       "      <td>0.00</td>\n",
       "      <td>Distinct</td>\n",
       "      <td>Available</td>\n",
       "      <td>Available</td>\n",
       "      <td>Available</td>\n",
       "    </tr>\n",
       "    <tr>\n",
       "      <th>1</th>\n",
       "      <td>1ZAPwfrtAFY</td>\n",
       "      <td>The Trump Presidency: Last Week Tonight with J...</td>\n",
       "      <td>LastWeekTonight</td>\n",
       "      <td>Entertainment</td>\n",
       "      <td>2017-11-13</td>\n",
       "      <td>2017-11-14</td>\n",
       "      <td>2418783</td>\n",
       "      <td>97185</td>\n",
       "      <td>12703</td>\n",
       "      <td>4.54</td>\n",
       "      <td>Good</td>\n",
       "      <td>6146</td>\n",
       "      <td>[last week tonight trump presidency, last week...</td>\n",
       "      <td>4</td>\n",
       "      <td>[john oliver trump, donald trump]</td>\n",
       "      <td>50.00</td>\n",
       "      <td>Alike</td>\n",
       "      <td>Available</td>\n",
       "      <td>Available</td>\n",
       "      <td>Available</td>\n",
       "    </tr>\n",
       "    <tr>\n",
       "      <th>2</th>\n",
       "      <td>5qpjK5DgCt4</td>\n",
       "      <td>Racist Superman | Rudy Mancuso, King Bach &amp; Le...</td>\n",
       "      <td>Rudy Mancuso</td>\n",
       "      <td>Comedy</td>\n",
       "      <td>2017-11-12</td>\n",
       "      <td>2017-11-14</td>\n",
       "      <td>3191434</td>\n",
       "      <td>146033</td>\n",
       "      <td>8181</td>\n",
       "      <td>4.83</td>\n",
       "      <td>Good</td>\n",
       "      <td>5339</td>\n",
       "      <td>[racist superman, rudy, mancuso, king, bach, r...</td>\n",
       "      <td>23</td>\n",
       "      <td>[racist superman, racist, anwar, rudy, anitta,...</td>\n",
       "      <td>91.30</td>\n",
       "      <td>Similar</td>\n",
       "      <td>Available</td>\n",
       "      <td>Available</td>\n",
       "      <td>Available</td>\n",
       "    </tr>\n",
       "    <tr>\n",
       "      <th>3</th>\n",
       "      <td>puqaWrEC7tY</td>\n",
       "      <td>Nickelback Lyrics: Real or Fake?</td>\n",
       "      <td>Good Mythical Morning</td>\n",
       "      <td>Entertainment</td>\n",
       "      <td>2017-11-13</td>\n",
       "      <td>2017-11-14</td>\n",
       "      <td>343168</td>\n",
       "      <td>10172</td>\n",
       "      <td>2146</td>\n",
       "      <td>3.59</td>\n",
       "      <td>Good</td>\n",
       "      <td>666</td>\n",
       "      <td>[rhett and link, gmm, good mythical morning, r...</td>\n",
       "      <td>27</td>\n",
       "      <td>[music, rhett and link good mythical morning, ...</td>\n",
       "      <td>55.56</td>\n",
       "      <td>Alike</td>\n",
       "      <td>Available</td>\n",
       "      <td>Available</td>\n",
       "      <td>Available</td>\n",
       "    </tr>\n",
       "    <tr>\n",
       "      <th>4</th>\n",
       "      <td>d380meD0W0M</td>\n",
       "      <td>I Dare You: GOING BALD!?</td>\n",
       "      <td>nigahiga</td>\n",
       "      <td>Entertainment</td>\n",
       "      <td>2017-11-12</td>\n",
       "      <td>2017-11-14</td>\n",
       "      <td>2095731</td>\n",
       "      <td>132235</td>\n",
       "      <td>17518</td>\n",
       "      <td>7.15</td>\n",
       "      <td>Good</td>\n",
       "      <td>1989</td>\n",
       "      <td>[ryan, higa, higatv, nigahiga, i dare you, idy...</td>\n",
       "      <td>14</td>\n",
       "      <td>[stupid, fail, higatv, funny, comedy, ryan, ni...</td>\n",
       "      <td>64.29</td>\n",
       "      <td>Alike</td>\n",
       "      <td>Available</td>\n",
       "      <td>Available</td>\n",
       "      <td>Available</td>\n",
       "    </tr>\n",
       "  </tbody>\n",
       "</table>\n",
       "</div>"
      ],
      "text/plain": [
       "      Video ID                                              Title  \\\n",
       "0  2kyS6SvSYSE                 WE WANT TO TALK ABOUT OUR MARRIAGE   \n",
       "1  1ZAPwfrtAFY  The Trump Presidency: Last Week Tonight with J...   \n",
       "2  5qpjK5DgCt4  Racist Superman | Rudy Mancuso, King Bach & Le...   \n",
       "3  puqaWrEC7tY                   Nickelback Lyrics: Real or Fake?   \n",
       "4  d380meD0W0M                           I Dare You: GOING BALD!?   \n",
       "\n",
       "                 Channel        Category Publish Date Trending Date    Views  \\\n",
       "0           CaseyNeistat  People & Blogs   2017-11-13    2017-11-14   748374   \n",
       "1        LastWeekTonight   Entertainment   2017-11-13    2017-11-14  2418783   \n",
       "2           Rudy Mancuso          Comedy   2017-11-12    2017-11-14  3191434   \n",
       "3  Good Mythical Morning   Entertainment   2017-11-13    2017-11-14   343168   \n",
       "4               nigahiga   Entertainment   2017-11-12    2017-11-14  2095731   \n",
       "\n",
       "    Likes  Comments  Engagement Rate (%) Quality  Dislikes  \\\n",
       "0   57527     15954                 9.82    Good      2966   \n",
       "1   97185     12703                 4.54    Good      6146   \n",
       "2  146033      8181                 4.83    Good      5339   \n",
       "3   10172      2146                 3.59    Good       666   \n",
       "4  132235     17518                 7.15    Good      1989   \n",
       "\n",
       "                                                Tags  Total Tags  \\\n",
       "0                                  [SHANtell martin]           1   \n",
       "1  [last week tonight trump presidency, last week...           4   \n",
       "2  [racist superman, rudy, mancuso, king, bach, r...          23   \n",
       "3  [rhett and link, gmm, good mythical morning, r...          27   \n",
       "4  [ryan, higa, higatv, nigahiga, i dare you, idy...          14   \n",
       "\n",
       "                                              Common  Common Rate (%)  \\\n",
       "0                                                 []             0.00   \n",
       "1                  [john oliver trump, donald trump]            50.00   \n",
       "2  [racist superman, racist, anwar, rudy, anitta,...            91.30   \n",
       "3  [music, rhett and link good mythical morning, ...            55.56   \n",
       "4  [stupid, fail, higatv, funny, comedy, ryan, ni...            64.29   \n",
       "\n",
       "  Similarity Ratings Feature Comments Feature Video Availability  \n",
       "0   Distinct       Available        Available          Available  \n",
       "1      Alike       Available        Available          Available  \n",
       "2    Similar       Available        Available          Available  \n",
       "3      Alike       Available        Available          Available  \n",
       "4      Alike       Available        Available          Available  "
      ]
     },
     "execution_count": 36,
     "metadata": {},
     "output_type": "execute_result"
    }
   ],
   "source": [
    "pd.set_option('display.max_colwidth',50)\n",
    "data.drop(['thumbnail_link','description'],axis=1)\n",
    "data = data.reindex(columns=[\n",
    "    'Video ID','Title','Channel','Category','Publish Date','Trending Date','Views','Likes','Comments','Engagement Rate (%)',\n",
    "    'Quality','Dislikes','Tags','Total Tags','Common','Common Rate (%)','Similarity','Ratings Feature','Comments Feature',\n",
    "    'Video Availability'\n",
    "])\n",
    "\n",
    "data.head()"
   ]
  },
  {
   "cell_type": "code",
   "execution_count": 37,
   "metadata": {},
   "outputs": [
    {
     "name": "stdout",
     "output_type": "stream",
     "text": [
      "Dataframe Infographic: \n",
      "\n",
      "1. Dataframe has 40949 rows dan 20 columns. \n",
      "2. There are 4 data types, those are object, float64, int64, datetime64[ns].\n"
     ]
    },
    {
     "data": {
      "text/html": [
       "<div>\n",
       "<style scoped>\n",
       "    .dataframe tbody tr th:only-of-type {\n",
       "        vertical-align: middle;\n",
       "    }\n",
       "\n",
       "    .dataframe tbody tr th {\n",
       "        vertical-align: top;\n",
       "    }\n",
       "\n",
       "    .dataframe thead th {\n",
       "        text-align: right;\n",
       "    }\n",
       "</style>\n",
       "<table border=\"1\" class=\"dataframe\">\n",
       "  <thead>\n",
       "    <tr style=\"text-align: right;\">\n",
       "      <th></th>\n",
       "      <th>Column</th>\n",
       "      <th>Data Type</th>\n",
       "      <th>Missing Counts</th>\n",
       "    </tr>\n",
       "  </thead>\n",
       "  <tbody>\n",
       "    <tr>\n",
       "      <th>1</th>\n",
       "      <td>Video ID</td>\n",
       "      <td>object</td>\n",
       "      <td>0</td>\n",
       "    </tr>\n",
       "    <tr>\n",
       "      <th>2</th>\n",
       "      <td>Title</td>\n",
       "      <td>object</td>\n",
       "      <td>0</td>\n",
       "    </tr>\n",
       "    <tr>\n",
       "      <th>3</th>\n",
       "      <td>Channel</td>\n",
       "      <td>object</td>\n",
       "      <td>0</td>\n",
       "    </tr>\n",
       "    <tr>\n",
       "      <th>4</th>\n",
       "      <td>Category</td>\n",
       "      <td>object</td>\n",
       "      <td>0</td>\n",
       "    </tr>\n",
       "    <tr>\n",
       "      <th>5</th>\n",
       "      <td>Publish Date</td>\n",
       "      <td>datetime64[ns]</td>\n",
       "      <td>0</td>\n",
       "    </tr>\n",
       "    <tr>\n",
       "      <th>6</th>\n",
       "      <td>Trending Date</td>\n",
       "      <td>datetime64[ns]</td>\n",
       "      <td>0</td>\n",
       "    </tr>\n",
       "    <tr>\n",
       "      <th>7</th>\n",
       "      <td>Views</td>\n",
       "      <td>int64</td>\n",
       "      <td>0</td>\n",
       "    </tr>\n",
       "    <tr>\n",
       "      <th>8</th>\n",
       "      <td>Likes</td>\n",
       "      <td>int64</td>\n",
       "      <td>0</td>\n",
       "    </tr>\n",
       "    <tr>\n",
       "      <th>9</th>\n",
       "      <td>Comments</td>\n",
       "      <td>int64</td>\n",
       "      <td>0</td>\n",
       "    </tr>\n",
       "    <tr>\n",
       "      <th>10</th>\n",
       "      <td>Engagement Rate (%)</td>\n",
       "      <td>float64</td>\n",
       "      <td>0</td>\n",
       "    </tr>\n",
       "    <tr>\n",
       "      <th>11</th>\n",
       "      <td>Quality</td>\n",
       "      <td>object</td>\n",
       "      <td>0</td>\n",
       "    </tr>\n",
       "    <tr>\n",
       "      <th>12</th>\n",
       "      <td>Dislikes</td>\n",
       "      <td>int64</td>\n",
       "      <td>0</td>\n",
       "    </tr>\n",
       "    <tr>\n",
       "      <th>13</th>\n",
       "      <td>Tags</td>\n",
       "      <td>object</td>\n",
       "      <td>0</td>\n",
       "    </tr>\n",
       "    <tr>\n",
       "      <th>14</th>\n",
       "      <td>Total Tags</td>\n",
       "      <td>int64</td>\n",
       "      <td>0</td>\n",
       "    </tr>\n",
       "    <tr>\n",
       "      <th>15</th>\n",
       "      <td>Common</td>\n",
       "      <td>object</td>\n",
       "      <td>0</td>\n",
       "    </tr>\n",
       "    <tr>\n",
       "      <th>16</th>\n",
       "      <td>Common Rate (%)</td>\n",
       "      <td>float64</td>\n",
       "      <td>0</td>\n",
       "    </tr>\n",
       "    <tr>\n",
       "      <th>17</th>\n",
       "      <td>Similarity</td>\n",
       "      <td>object</td>\n",
       "      <td>0</td>\n",
       "    </tr>\n",
       "    <tr>\n",
       "      <th>18</th>\n",
       "      <td>Ratings Feature</td>\n",
       "      <td>object</td>\n",
       "      <td>0</td>\n",
       "    </tr>\n",
       "    <tr>\n",
       "      <th>19</th>\n",
       "      <td>Comments Feature</td>\n",
       "      <td>object</td>\n",
       "      <td>0</td>\n",
       "    </tr>\n",
       "    <tr>\n",
       "      <th>20</th>\n",
       "      <td>Video Availability</td>\n",
       "      <td>object</td>\n",
       "      <td>0</td>\n",
       "    </tr>\n",
       "  </tbody>\n",
       "</table>\n",
       "</div>"
      ],
      "text/plain": [
       "                 Column       Data Type  Missing Counts\n",
       "1              Video ID          object               0\n",
       "2                 Title          object               0\n",
       "3               Channel          object               0\n",
       "4              Category          object               0\n",
       "5          Publish Date  datetime64[ns]               0\n",
       "6         Trending Date  datetime64[ns]               0\n",
       "7                 Views           int64               0\n",
       "8                 Likes           int64               0\n",
       "9              Comments           int64               0\n",
       "10  Engagement Rate (%)         float64               0\n",
       "11              Quality          object               0\n",
       "12             Dislikes           int64               0\n",
       "13                 Tags          object               0\n",
       "14           Total Tags           int64               0\n",
       "15               Common          object               0\n",
       "16      Common Rate (%)         float64               0\n",
       "17           Similarity          object               0\n",
       "18      Ratings Feature          object               0\n",
       "19     Comments Feature          object               0\n",
       "20   Video Availability          object               0"
      ]
     },
     "execution_count": 37,
     "metadata": {},
     "output_type": "execute_result"
    }
   ],
   "source": [
    "print(\n",
    "    'Dataframe Infographic: \\n\\n1. Dataframe has {} rows dan {} columns.'.format(data.shape[0],data.shape[1]),\n",
    "    '\\n2. There are {} data types, those are {}.'.format(\n",
    "        len(set(str(i) for i in data.dtypes.values)),\n",
    "        ', '.join(list(set(str(i) for i in data.dtypes.values)))\n",
    "    )\n",
    ")\n",
    "\n",
    "infografis = pd.DataFrame(data.dtypes).reset_index().rename(columns={'index':'Column',0:'Data Type'}).set_index(np.r_[1:21])\n",
    "infografis['Missing Counts'] = data.isnull().sum().values\n",
    "infografis"
   ]
  },
  {
   "cell_type": "markdown",
   "metadata": {},
   "source": [
    "After all Data Preparation processes have been carried out, at this stage the data is ready to be processed in the next process, namely Explanatory Data Analysis. Before that, let's save the prepared data into a new file called `USvideos_clean.csv`."
   ]
  },
  {
   "cell_type": "code",
   "execution_count": 38,
   "metadata": {},
   "outputs": [],
   "source": [
    "data.to_csv('USvideos_clean.csv',index=False)"
   ]
  }
 ],
 "metadata": {
  "kernelspec": {
   "display_name": "Python 3",
   "language": "python",
   "name": "python3"
  },
  "language_info": {
   "codemirror_mode": {
    "name": "ipython",
    "version": 3
   },
   "file_extension": ".py",
   "mimetype": "text/x-python",
   "name": "python",
   "nbconvert_exporter": "python",
   "pygments_lexer": "ipython3",
   "version": "3.11.5"
  },
  "orig_nbformat": 4
 },
 "nbformat": 4,
 "nbformat_minor": 2
}
